{
  "nbformat": 4,
  "nbformat_minor": 0,
  "metadata": {
    "colab": {
      "provenance": [],
      "history_visible": true,
      "authorship_tag": "ABX9TyMg1Bh558l1FQkRMPjAQE08",
      "include_colab_link": true
    },
    "kernelspec": {
      "name": "python3",
      "display_name": "Python 3"
    },
    "language_info": {
      "name": "python"
    }
  },
  "cells": [
    {
      "cell_type": "markdown",
      "metadata": {
        "id": "view-in-github",
        "colab_type": "text"
      },
      "source": [
        "<a href=\"https://colab.research.google.com/github/tseykoroman/Finance/blob/main/export_model_to_google.ipynb\" target=\"_parent\"><img src=\"https://colab.research.google.com/assets/colab-badge.svg\" alt=\"Open In Colab\"/></a>"
      ]
    },
    {
      "cell_type": "code",
      "execution_count": 1,
      "metadata": {
        "colab": {
          "base_uri": "https://localhost:8080/"
        },
        "id": "ANqXEh9kI6E7",
        "outputId": "0229f22d-bd5d-40a8-de19-40de8aeaea24"
      },
      "outputs": [
        {
          "output_type": "stream",
          "name": "stdout",
          "text": [
            "Mounted at /content/drive\n"
          ]
        }
      ],
      "source": [
        "from google.colab import drive\n",
        "drive.mount('/content/drive')"
      ]
    },
    {
      "cell_type": "code",
      "source": [
        "file_path = '/content/drive/MyDrive/filename.txt'\n",
        "with open(file_path, 'w') as f:\n",
        "    f.write('This is the content of the file 22222.')\n"
      ],
      "metadata": {
        "id": "mm2Lpgo7JHvE"
      },
      "execution_count": 4,
      "outputs": []
    },
    {
      "cell_type": "code",
      "source": [
        "file_path = '/content/drive/MyDrive/filename.txt'\n",
        "with open(file_path, 'r') as f:\n",
        "    content = f.read()\n",
        "print(content)"
      ],
      "metadata": {
        "colab": {
          "base_uri": "https://localhost:8080/"
        },
        "id": "MC6tAqQnJNbL",
        "outputId": "b6bc027a-bc43-4fb1-d297-012ff3ecda21"
      },
      "execution_count": 5,
      "outputs": [
        {
          "output_type": "stream",
          "name": "stdout",
          "text": [
            "This is the content of the file 22222.\n"
          ]
        }
      ]
    },
    {
      "cell_type": "code",
      "source": [
        "!pip install autokeras"
      ],
      "metadata": {
        "colab": {
          "base_uri": "https://localhost:8080/"
        },
        "id": "ECpGrv7LJrhs",
        "outputId": "47818392-17e1-42e9-c2a3-13a53704045f"
      },
      "execution_count": 6,
      "outputs": [
        {
          "output_type": "stream",
          "name": "stdout",
          "text": [
            "Collecting autokeras\n",
            "  Downloading autokeras-1.1.0-py3-none-any.whl (148 kB)\n",
            "\u001b[?25l     \u001b[90m━━━━━━━━━━━━━━━━━━━━━━━━━━━━━━━━━━━━━━━━\u001b[0m \u001b[32m0.0/148.6 kB\u001b[0m \u001b[31m?\u001b[0m eta \u001b[36m-:--:--\u001b[0m\r\u001b[2K     \u001b[91m━━━━━━━━━━━━━━━━━━━━━━━━\u001b[0m\u001b[91m╸\u001b[0m\u001b[90m━━━━━━━━━━━━━━━\u001b[0m \u001b[32m92.2/148.6 kB\u001b[0m \u001b[31m2.8 MB/s\u001b[0m eta \u001b[36m0:00:01\u001b[0m\r\u001b[2K     \u001b[90m━━━━━━━━━━━━━━━━━━━━━━━━━━━━━━━━━━━━━━━━\u001b[0m \u001b[32m148.6/148.6 kB\u001b[0m \u001b[31m3.1 MB/s\u001b[0m eta \u001b[36m0:00:00\u001b[0m\n",
            "\u001b[?25hRequirement already satisfied: packaging in /usr/local/lib/python3.10/dist-packages (from autokeras) (23.2)\n",
            "Requirement already satisfied: tensorflow>=2.8.0 in /usr/local/lib/python3.10/dist-packages (from autokeras) (2.15.0)\n",
            "Collecting keras-tuner>=1.1.0 (from autokeras)\n",
            "  Downloading keras_tuner-1.4.6-py3-none-any.whl (128 kB)\n",
            "\u001b[2K     \u001b[90m━━━━━━━━━━━━━━━━━━━━━━━━━━━━━━━━━━━━━━━━\u001b[0m \u001b[32m128.9/128.9 kB\u001b[0m \u001b[31m6.1 MB/s\u001b[0m eta \u001b[36m0:00:00\u001b[0m\n",
            "\u001b[?25hCollecting keras-nlp>=0.4.0 (from autokeras)\n",
            "  Downloading keras_nlp-0.6.4-py3-none-any.whl (584 kB)\n",
            "\u001b[2K     \u001b[90m━━━━━━━━━━━━━━━━━━━━━━━━━━━━━━━━━━━━━━━━\u001b[0m \u001b[32m584.8/584.8 kB\u001b[0m \u001b[31m8.6 MB/s\u001b[0m eta \u001b[36m0:00:00\u001b[0m\n",
            "\u001b[?25hRequirement already satisfied: pandas in /usr/local/lib/python3.10/dist-packages (from autokeras) (1.5.3)\n",
            "Collecting keras-core (from keras-nlp>=0.4.0->autokeras)\n",
            "  Downloading keras_core-0.1.7-py3-none-any.whl (950 kB)\n",
            "\u001b[2K     \u001b[90m━━━━━━━━━━━━━━━━━━━━━━━━━━━━━━━━━━━━━━━━\u001b[0m \u001b[32m950.8/950.8 kB\u001b[0m \u001b[31m11.5 MB/s\u001b[0m eta \u001b[36m0:00:00\u001b[0m\n",
            "\u001b[?25hRequirement already satisfied: absl-py in /usr/local/lib/python3.10/dist-packages (from keras-nlp>=0.4.0->autokeras) (1.4.0)\n",
            "Requirement already satisfied: numpy in /usr/local/lib/python3.10/dist-packages (from keras-nlp>=0.4.0->autokeras) (1.23.5)\n",
            "Requirement already satisfied: regex in /usr/local/lib/python3.10/dist-packages (from keras-nlp>=0.4.0->autokeras) (2023.6.3)\n",
            "Requirement already satisfied: rich in /usr/local/lib/python3.10/dist-packages (from keras-nlp>=0.4.0->autokeras) (13.7.0)\n",
            "Requirement already satisfied: dm-tree in /usr/local/lib/python3.10/dist-packages (from keras-nlp>=0.4.0->autokeras) (0.1.8)\n",
            "Collecting tensorflow-text (from keras-nlp>=0.4.0->autokeras)\n",
            "  Downloading tensorflow_text-2.15.0-cp310-cp310-manylinux_2_17_x86_64.manylinux2014_x86_64.whl (5.2 MB)\n",
            "\u001b[2K     \u001b[90m━━━━━━━━━━━━━━━━━━━━━━━━━━━━━━━━━━━━━━━━\u001b[0m \u001b[32m5.2/5.2 MB\u001b[0m \u001b[31m24.8 MB/s\u001b[0m eta \u001b[36m0:00:00\u001b[0m\n",
            "\u001b[?25hRequirement already satisfied: keras in /usr/local/lib/python3.10/dist-packages (from keras-tuner>=1.1.0->autokeras) (2.15.0)\n",
            "Requirement already satisfied: requests in /usr/local/lib/python3.10/dist-packages (from keras-tuner>=1.1.0->autokeras) (2.31.0)\n",
            "Collecting kt-legacy (from keras-tuner>=1.1.0->autokeras)\n",
            "  Downloading kt_legacy-1.0.5-py3-none-any.whl (9.6 kB)\n",
            "Requirement already satisfied: astunparse>=1.6.0 in /usr/local/lib/python3.10/dist-packages (from tensorflow>=2.8.0->autokeras) (1.6.3)\n",
            "Requirement already satisfied: flatbuffers>=23.5.26 in /usr/local/lib/python3.10/dist-packages (from tensorflow>=2.8.0->autokeras) (23.5.26)\n",
            "Requirement already satisfied: gast!=0.5.0,!=0.5.1,!=0.5.2,>=0.2.1 in /usr/local/lib/python3.10/dist-packages (from tensorflow>=2.8.0->autokeras) (0.5.4)\n",
            "Requirement already satisfied: google-pasta>=0.1.1 in /usr/local/lib/python3.10/dist-packages (from tensorflow>=2.8.0->autokeras) (0.2.0)\n",
            "Requirement already satisfied: h5py>=2.9.0 in /usr/local/lib/python3.10/dist-packages (from tensorflow>=2.8.0->autokeras) (3.9.0)\n",
            "Requirement already satisfied: libclang>=13.0.0 in /usr/local/lib/python3.10/dist-packages (from tensorflow>=2.8.0->autokeras) (16.0.6)\n",
            "Requirement already satisfied: ml-dtypes~=0.2.0 in /usr/local/lib/python3.10/dist-packages (from tensorflow>=2.8.0->autokeras) (0.2.0)\n",
            "Requirement already satisfied: opt-einsum>=2.3.2 in /usr/local/lib/python3.10/dist-packages (from tensorflow>=2.8.0->autokeras) (3.3.0)\n",
            "Requirement already satisfied: protobuf!=4.21.0,!=4.21.1,!=4.21.2,!=4.21.3,!=4.21.4,!=4.21.5,<5.0.0dev,>=3.20.3 in /usr/local/lib/python3.10/dist-packages (from tensorflow>=2.8.0->autokeras) (3.20.3)\n",
            "Requirement already satisfied: setuptools in /usr/local/lib/python3.10/dist-packages (from tensorflow>=2.8.0->autokeras) (67.7.2)\n",
            "Requirement already satisfied: six>=1.12.0 in /usr/local/lib/python3.10/dist-packages (from tensorflow>=2.8.0->autokeras) (1.16.0)\n",
            "Requirement already satisfied: termcolor>=1.1.0 in /usr/local/lib/python3.10/dist-packages (from tensorflow>=2.8.0->autokeras) (2.4.0)\n",
            "Requirement already satisfied: typing-extensions>=3.6.6 in /usr/local/lib/python3.10/dist-packages (from tensorflow>=2.8.0->autokeras) (4.5.0)\n",
            "Requirement already satisfied: wrapt<1.15,>=1.11.0 in /usr/local/lib/python3.10/dist-packages (from tensorflow>=2.8.0->autokeras) (1.14.1)\n",
            "Requirement already satisfied: tensorflow-io-gcs-filesystem>=0.23.1 in /usr/local/lib/python3.10/dist-packages (from tensorflow>=2.8.0->autokeras) (0.34.0)\n",
            "Requirement already satisfied: grpcio<2.0,>=1.24.3 in /usr/local/lib/python3.10/dist-packages (from tensorflow>=2.8.0->autokeras) (1.60.0)\n",
            "Requirement already satisfied: tensorboard<2.16,>=2.15 in /usr/local/lib/python3.10/dist-packages (from tensorflow>=2.8.0->autokeras) (2.15.1)\n",
            "Requirement already satisfied: tensorflow-estimator<2.16,>=2.15.0 in /usr/local/lib/python3.10/dist-packages (from tensorflow>=2.8.0->autokeras) (2.15.0)\n",
            "Requirement already satisfied: python-dateutil>=2.8.1 in /usr/local/lib/python3.10/dist-packages (from pandas->autokeras) (2.8.2)\n",
            "Requirement already satisfied: pytz>=2020.1 in /usr/local/lib/python3.10/dist-packages (from pandas->autokeras) (2023.3.post1)\n",
            "Requirement already satisfied: wheel<1.0,>=0.23.0 in /usr/local/lib/python3.10/dist-packages (from astunparse>=1.6.0->tensorflow>=2.8.0->autokeras) (0.42.0)\n",
            "Requirement already satisfied: google-auth<3,>=1.6.3 in /usr/local/lib/python3.10/dist-packages (from tensorboard<2.16,>=2.15->tensorflow>=2.8.0->autokeras) (2.17.3)\n",
            "Requirement already satisfied: google-auth-oauthlib<2,>=0.5 in /usr/local/lib/python3.10/dist-packages (from tensorboard<2.16,>=2.15->tensorflow>=2.8.0->autokeras) (1.2.0)\n",
            "Requirement already satisfied: markdown>=2.6.8 in /usr/local/lib/python3.10/dist-packages (from tensorboard<2.16,>=2.15->tensorflow>=2.8.0->autokeras) (3.5.1)\n",
            "Requirement already satisfied: tensorboard-data-server<0.8.0,>=0.7.0 in /usr/local/lib/python3.10/dist-packages (from tensorboard<2.16,>=2.15->tensorflow>=2.8.0->autokeras) (0.7.2)\n",
            "Requirement already satisfied: werkzeug>=1.0.1 in /usr/local/lib/python3.10/dist-packages (from tensorboard<2.16,>=2.15->tensorflow>=2.8.0->autokeras) (3.0.1)\n",
            "Requirement already satisfied: charset-normalizer<4,>=2 in /usr/local/lib/python3.10/dist-packages (from requests->keras-tuner>=1.1.0->autokeras) (3.3.2)\n",
            "Requirement already satisfied: idna<4,>=2.5 in /usr/local/lib/python3.10/dist-packages (from requests->keras-tuner>=1.1.0->autokeras) (3.6)\n",
            "Requirement already satisfied: urllib3<3,>=1.21.1 in /usr/local/lib/python3.10/dist-packages (from requests->keras-tuner>=1.1.0->autokeras) (2.0.7)\n",
            "Requirement already satisfied: certifi>=2017.4.17 in /usr/local/lib/python3.10/dist-packages (from requests->keras-tuner>=1.1.0->autokeras) (2023.11.17)\n",
            "Collecting namex (from keras-core->keras-nlp>=0.4.0->autokeras)\n",
            "  Downloading namex-0.0.7-py3-none-any.whl (5.8 kB)\n",
            "Requirement already satisfied: markdown-it-py>=2.2.0 in /usr/local/lib/python3.10/dist-packages (from rich->keras-nlp>=0.4.0->autokeras) (3.0.0)\n",
            "Requirement already satisfied: pygments<3.0.0,>=2.13.0 in /usr/local/lib/python3.10/dist-packages (from rich->keras-nlp>=0.4.0->autokeras) (2.16.1)\n",
            "Requirement already satisfied: tensorflow-hub>=0.13.0 in /usr/local/lib/python3.10/dist-packages (from tensorflow-text->keras-nlp>=0.4.0->autokeras) (0.15.0)\n",
            "Requirement already satisfied: cachetools<6.0,>=2.0.0 in /usr/local/lib/python3.10/dist-packages (from google-auth<3,>=1.6.3->tensorboard<2.16,>=2.15->tensorflow>=2.8.0->autokeras) (5.3.2)\n",
            "Requirement already satisfied: pyasn1-modules>=0.2.1 in /usr/local/lib/python3.10/dist-packages (from google-auth<3,>=1.6.3->tensorboard<2.16,>=2.15->tensorflow>=2.8.0->autokeras) (0.3.0)\n",
            "Requirement already satisfied: rsa<5,>=3.1.4 in /usr/local/lib/python3.10/dist-packages (from google-auth<3,>=1.6.3->tensorboard<2.16,>=2.15->tensorflow>=2.8.0->autokeras) (4.9)\n",
            "Requirement already satisfied: requests-oauthlib>=0.7.0 in /usr/local/lib/python3.10/dist-packages (from google-auth-oauthlib<2,>=0.5->tensorboard<2.16,>=2.15->tensorflow>=2.8.0->autokeras) (1.3.1)\n",
            "Requirement already satisfied: mdurl~=0.1 in /usr/local/lib/python3.10/dist-packages (from markdown-it-py>=2.2.0->rich->keras-nlp>=0.4.0->autokeras) (0.1.2)\n",
            "Requirement already satisfied: MarkupSafe>=2.1.1 in /usr/local/lib/python3.10/dist-packages (from werkzeug>=1.0.1->tensorboard<2.16,>=2.15->tensorflow>=2.8.0->autokeras) (2.1.3)\n",
            "Requirement already satisfied: pyasn1<0.6.0,>=0.4.6 in /usr/local/lib/python3.10/dist-packages (from pyasn1-modules>=0.2.1->google-auth<3,>=1.6.3->tensorboard<2.16,>=2.15->tensorflow>=2.8.0->autokeras) (0.5.1)\n",
            "Requirement already satisfied: oauthlib>=3.0.0 in /usr/local/lib/python3.10/dist-packages (from requests-oauthlib>=0.7.0->google-auth-oauthlib<2,>=0.5->tensorboard<2.16,>=2.15->tensorflow>=2.8.0->autokeras) (3.2.2)\n",
            "Installing collected packages: namex, kt-legacy, keras-tuner, keras-core, tensorflow-text, keras-nlp, autokeras\n",
            "Successfully installed autokeras-1.1.0 keras-core-0.1.7 keras-nlp-0.6.4 keras-tuner-1.4.6 kt-legacy-1.0.5 namex-0.0.7 tensorflow-text-2.15.0\n"
          ]
        }
      ]
    },
    {
      "cell_type": "code",
      "source": [
        "import pandas as pd\n",
        "import tensorflow as tf\n",
        "\n",
        "import autokeras as ak"
      ],
      "metadata": {
        "id": "5nK06jJ8Jtsc"
      },
      "execution_count": 20,
      "outputs": []
    },
    {
      "cell_type": "code",
      "source": [
        "dataset = pd.read_csv('AirQualityUCI.csv', sep=\";\")\n",
        "dataset = dataset[dataset.columns[:-2]]\n",
        "dataset = dataset.dropna()\n",
        "dataset = dataset.replace(\",\", \".\", regex=True)\n",
        "\n",
        "val_split = int(len(dataset) * 0.7)\n",
        "data_train = dataset[:val_split]\n",
        "validation_data = dataset[val_split:]\n",
        "\n",
        "data_x = data_train[\n",
        "    [\n",
        "        \"CO(GT)\",\n",
        "        \"PT08.S1(CO)\",\n",
        "        \"NMHC(GT)\",\n",
        "        \"C6H6(GT)\",\n",
        "        \"PT08.S2(NMHC)\",\n",
        "        \"NOx(GT)\",\n",
        "        \"PT08.S3(NOx)\",\n",
        "        \"NO2(GT)\",\n",
        "        \"PT08.S4(NO2)\",\n",
        "        \"PT08.S5(O3)\",\n",
        "        \"T\",\n",
        "        \"RH\",\n",
        "    ]\n",
        "].astype(\"float64\")\n",
        "\n",
        "data_x_val = validation_data[\n",
        "    [\n",
        "        \"CO(GT)\",\n",
        "        \"PT08.S1(CO)\",\n",
        "        \"NMHC(GT)\",\n",
        "        \"C6H6(GT)\",\n",
        "        \"PT08.S2(NMHC)\",\n",
        "        \"NOx(GT)\",\n",
        "        \"PT08.S3(NOx)\",\n",
        "        \"NO2(GT)\",\n",
        "        \"PT08.S4(NO2)\",\n",
        "        \"PT08.S5(O3)\",\n",
        "        \"T\",\n",
        "        \"RH\",\n",
        "    ]\n",
        "].astype(\"float64\")\n",
        "\n",
        "# Data with train data and the unseen data from subsequent time steps.\n",
        "data_x_test = dataset[\n",
        "    [\n",
        "        \"CO(GT)\",\n",
        "        \"PT08.S1(CO)\",\n",
        "        \"NMHC(GT)\",\n",
        "        \"C6H6(GT)\",\n",
        "        \"PT08.S2(NMHC)\",\n",
        "        \"NOx(GT)\",\n",
        "        \"PT08.S3(NOx)\",\n",
        "        \"NO2(GT)\",\n",
        "        \"PT08.S4(NO2)\",\n",
        "        \"PT08.S5(O3)\",\n",
        "        \"T\",\n",
        "        \"RH\",\n",
        "    ]\n",
        "].astype(\"float64\")\n",
        "\n",
        "data_y = data_train[\"AH\"].astype(\"float64\")\n",
        "\n",
        "data_y_val = validation_data[\"AH\"].astype(\"float64\")\n",
        "\n",
        "print(data_x.shape)  # (6549, 12)\n",
        "print(data_y.shape)  # (6549,)"
      ],
      "metadata": {
        "colab": {
          "base_uri": "https://localhost:8080/"
        },
        "id": "UYbyVt6qJwCD",
        "outputId": "6186e650-e61a-43dd-880a-366143042b1f"
      },
      "execution_count": 21,
      "outputs": [
        {
          "output_type": "stream",
          "name": "stdout",
          "text": [
            "(6549, 12)\n",
            "(6549,)\n"
          ]
        }
      ]
    },
    {
      "cell_type": "code",
      "source": [
        "predict_from = 1\n",
        "predict_until = 1 #number of predicted items in future\n",
        "lookback = 10\n",
        "clf = ak.TimeseriesForecaster(\n",
        "    lookback=lookback,\n",
        "    predict_from=predict_from,\n",
        "    predict_until=predict_until,\n",
        "    max_trials=1,\n",
        "    objective=\"val_loss\",\n",
        ")\n",
        "# Train the TimeSeriesForecaster with train data\n",
        "clf.fit(\n",
        "    x=data_x,\n",
        "    y=data_y,\n",
        "    validation_data=(data_x_val, data_y_val),\n",
        "    batch_size=32,\n",
        "    epochs=5,\n",
        ")\n",
        "# Predict with the best model(includes original training data).\n",
        "predictions = clf.predict(data_x_test)\n",
        "print(predictions.shape)\n",
        "# Evaluate the best model with testing data.\n",
        "print(clf.evaluate(data_x_val, data_y_val))"
      ],
      "metadata": {
        "colab": {
          "base_uri": "https://localhost:8080/"
        },
        "id": "2lR7sGzGJxeF",
        "outputId": "a9ab607a-3934-4d1d-88df-52c1d2fb1af6"
      },
      "execution_count": 40,
      "outputs": [
        {
          "output_type": "stream",
          "name": "stdout",
          "text": [
            "Reloading Tuner from ./time_series_forecaster/tuner0.json\n",
            "Epoch 1/5\n",
            "205/205 [==============================] - 9s 25ms/step - loss: 901.1220 - mean_squared_error: 901.1220 - val_loss: 3099.3623 - val_mean_squared_error: 3099.3623\n",
            "Epoch 2/5\n",
            "205/205 [==============================] - 3s 12ms/step - loss: 897.4153 - mean_squared_error: 897.4153 - val_loss: 3091.1497 - val_mean_squared_error: 3091.1497\n",
            "Epoch 3/5\n",
            "205/205 [==============================] - 4s 21ms/step - loss: 894.2197 - mean_squared_error: 894.2197 - val_loss: 3086.6531 - val_mean_squared_error: 3086.6531\n",
            "Epoch 4/5\n",
            "205/205 [==============================] - 3s 13ms/step - loss: 892.2218 - mean_squared_error: 892.2218 - val_loss: 3075.1279 - val_mean_squared_error: 3075.1279\n",
            "Epoch 5/5\n",
            "205/205 [==============================] - 3s 14ms/step - loss: 890.1168 - mean_squared_error: 890.1168 - val_loss: 3069.0215 - val_mean_squared_error: 3069.0215\n",
            "293/293 [==============================] - 5s 12ms/step\n",
            "293/293 [==============================] - 2s 7ms/step\n",
            "(1, 1)\n",
            "88/88 [==============================] - 1s 5ms/step - loss: 3069.0215 - mean_squared_error: 3069.0215\n",
            "[3069.021484375, 3069.021484375]\n"
          ]
        }
      ]
    },
    {
      "cell_type": "code",
      "source": [
        "# Export as a Keras Model.\n",
        "model = clf.export_model()\n",
        "\n",
        "print(type(model))  # <class 'tensorflow.python.keras.engine.training.Model'>\n"
      ],
      "metadata": {
        "colab": {
          "base_uri": "https://localhost:8080/"
        },
        "id": "nbn1evtvLfSU",
        "outputId": "dbbbea45-d607-4b2f-fbf3-c11f8f62c63f"
      },
      "execution_count": 42,
      "outputs": [
        {
          "output_type": "stream",
          "name": "stdout",
          "text": [
            "<class 'keras.src.engine.functional.Functional'>\n"
          ]
        }
      ]
    },
    {
      "cell_type": "code",
      "source": [
        "try:\n",
        "    model.save(\"/content/drive/MyDrive/model_autokeras\", save_format=\"tf\")\n",
        "except Exception:\n",
        "    model.save(\"/content/drive/MyDrive/model_autokeras.h5\")\n"
      ],
      "metadata": {
        "id": "C0hpt7hCJ3z9"
      },
      "execution_count": 43,
      "outputs": []
    },
    {
      "cell_type": "code",
      "source": [
        "from tensorflow.keras.models import load_model"
      ],
      "metadata": {
        "id": "LL9WAAl3LxL8"
      },
      "execution_count": 44,
      "outputs": []
    },
    {
      "cell_type": "code",
      "source": [
        "loaded_model = load_model(\"/content/drive/MyDrive/model_autokeras\", custom_objects=ak.CUSTOM_OBJECTS)\n",
        "\n",
        "print(type(loaded_model))  # <class 'tensorflow.python.keras.engine.training.Model'>"
      ],
      "metadata": {
        "colab": {
          "base_uri": "https://localhost:8080/"
        },
        "id": "fc3fid9TLrNl",
        "outputId": "2ea227e8-b7e8-4dba-e12f-d29e80da929d"
      },
      "execution_count": 45,
      "outputs": [
        {
          "output_type": "stream",
          "name": "stdout",
          "text": [
            "<class 'keras.src.engine.functional.Functional'>\n"
          ]
        }
      ]
    }
  ]
}